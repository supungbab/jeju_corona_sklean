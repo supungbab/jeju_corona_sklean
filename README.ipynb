{
 "cells": [
  {
   "cell_type": "markdown",
   "id": "cd7570d5",
   "metadata": {},
   "source": [
    "# 목표 : 어떤 속성이 제주 방문인구 수에 영향을 끼치는 지 분석하고  2019~2020년 방문인구수 예측하기.\n",
    "# 설명 동영상 링크 => https://youtu.be/G2ZmZniMBnY"
   ]
  },
  {
   "cell_type": "code",
   "execution_count": 1,
   "id": "40dbc0ef",
   "metadata": {},
   "outputs": [],
   "source": [
    "import pandas as pd\n",
    "import numpy as np\n",
    "\n",
    "#자료 출처 https://www.jejudatahub.net/data/view/data/753 제주 데이터허브\n",
    "jeju = pd.read_csv('jeju_data.csv',encoding='euc-kr')"
   ]
  },
  {
   "cell_type": "code",
   "execution_count": 2,
   "id": "f4603d64",
   "metadata": {},
   "outputs": [
    {
     "data": {
      "text/html": [
       "<div>\n",
       "<style scoped>\n",
       "    .dataframe tbody tr th:only-of-type {\n",
       "        vertical-align: middle;\n",
       "    }\n",
       "\n",
       "    .dataframe tbody tr th {\n",
       "        vertical-align: top;\n",
       "    }\n",
       "\n",
       "    .dataframe thead th {\n",
       "        text-align: right;\n",
       "    }\n",
       "</style>\n",
       "<table border=\"1\" class=\"dataframe\">\n",
       "  <thead>\n",
       "    <tr style=\"text-align: right;\">\n",
       "      <th></th>\n",
       "      <th>일자</th>\n",
       "      <th>시도명</th>\n",
       "      <th>읍면동명</th>\n",
       "      <th>거주인구</th>\n",
       "      <th>근무인구</th>\n",
       "      <th>방문인구</th>\n",
       "      <th>총 유동인구</th>\n",
       "      <th>교통량</th>\n",
       "      <th>평균 속도</th>\n",
       "      <th>평균 소요 시간</th>\n",
       "      <th>평균 기온</th>\n",
       "      <th>일강수량</th>\n",
       "      <th>평균 풍속</th>\n",
       "      <th>데이터기준일자</th>\n",
       "    </tr>\n",
       "  </thead>\n",
       "  <tbody>\n",
       "    <tr>\n",
       "      <th>0</th>\n",
       "      <td>2018-01-01</td>\n",
       "      <td>서귀포시</td>\n",
       "      <td>남원읍</td>\n",
       "      <td>291408.897</td>\n",
       "      <td>18744.131</td>\n",
       "      <td>219588.857</td>\n",
       "      <td>529741.884</td>\n",
       "      <td>76.200</td>\n",
       "      <td>53.000</td>\n",
       "      <td>40.571</td>\n",
       "      <td>2.350</td>\n",
       "      <td>0.0</td>\n",
       "      <td>3.325</td>\n",
       "      <td>2020-12-15</td>\n",
       "    </tr>\n",
       "    <tr>\n",
       "      <th>1</th>\n",
       "      <td>2018-01-01</td>\n",
       "      <td>서귀포시</td>\n",
       "      <td>대륜동</td>\n",
       "      <td>267671.778</td>\n",
       "      <td>20177.907</td>\n",
       "      <td>212778.579</td>\n",
       "      <td>500628.264</td>\n",
       "      <td>0.000</td>\n",
       "      <td>39.185</td>\n",
       "      <td>33.630</td>\n",
       "      <td>4.900</td>\n",
       "      <td>0.0</td>\n",
       "      <td>1.900</td>\n",
       "      <td>2020-12-15</td>\n",
       "    </tr>\n",
       "    <tr>\n",
       "      <th>2</th>\n",
       "      <td>2018-01-01</td>\n",
       "      <td>서귀포시</td>\n",
       "      <td>대정읍</td>\n",
       "      <td>385419.306</td>\n",
       "      <td>16536.359</td>\n",
       "      <td>161422.712</td>\n",
       "      <td>563378.377</td>\n",
       "      <td>394.789</td>\n",
       "      <td>54.632</td>\n",
       "      <td>42.579</td>\n",
       "      <td>6.633</td>\n",
       "      <td>0.0</td>\n",
       "      <td>6.367</td>\n",
       "      <td>2020-12-15</td>\n",
       "    </tr>\n",
       "    <tr>\n",
       "      <th>3</th>\n",
       "      <td>2018-01-01</td>\n",
       "      <td>서귀포시</td>\n",
       "      <td>대천동</td>\n",
       "      <td>155036.925</td>\n",
       "      <td>9403.969</td>\n",
       "      <td>150882.409</td>\n",
       "      <td>315323.303</td>\n",
       "      <td>0.000</td>\n",
       "      <td>41.583</td>\n",
       "      <td>14.375</td>\n",
       "      <td>5.100</td>\n",
       "      <td>0.0</td>\n",
       "      <td>2.300</td>\n",
       "      <td>2020-12-15</td>\n",
       "    </tr>\n",
       "    <tr>\n",
       "      <th>4</th>\n",
       "      <td>2018-01-01</td>\n",
       "      <td>서귀포시</td>\n",
       "      <td>동홍동</td>\n",
       "      <td>372744.391</td>\n",
       "      <td>26351.698</td>\n",
       "      <td>160768.257</td>\n",
       "      <td>559864.346</td>\n",
       "      <td>0.000</td>\n",
       "      <td>39.667</td>\n",
       "      <td>30.476</td>\n",
       "      <td>4.900</td>\n",
       "      <td>0.0</td>\n",
       "      <td>1.900</td>\n",
       "      <td>2020-12-15</td>\n",
       "    </tr>\n",
       "  </tbody>\n",
       "</table>\n",
       "</div>"
      ],
      "text/plain": [
       "           일자   시도명 읍면동명        거주인구       근무인구        방문인구      총 유동인구  \\\n",
       "0  2018-01-01  서귀포시  남원읍  291408.897  18744.131  219588.857  529741.884   \n",
       "1  2018-01-01  서귀포시  대륜동  267671.778  20177.907  212778.579  500628.264   \n",
       "2  2018-01-01  서귀포시  대정읍  385419.306  16536.359  161422.712  563378.377   \n",
       "3  2018-01-01  서귀포시  대천동  155036.925   9403.969  150882.409  315323.303   \n",
       "4  2018-01-01  서귀포시  동홍동  372744.391  26351.698  160768.257  559864.346   \n",
       "\n",
       "       교통량   평균 속도  평균 소요 시간  평균 기온  일강수량  평균 풍속     데이터기준일자  \n",
       "0   76.200  53.000    40.571  2.350   0.0  3.325  2020-12-15  \n",
       "1    0.000  39.185    33.630  4.900   0.0  1.900  2020-12-15  \n",
       "2  394.789  54.632    42.579  6.633   0.0  6.367  2020-12-15  \n",
       "3    0.000  41.583    14.375  5.100   0.0  2.300  2020-12-15  \n",
       "4    0.000  39.667    30.476  4.900   0.0  1.900  2020-12-15  "
      ]
     },
     "execution_count": 2,
     "metadata": {},
     "output_type": "execute_result"
    }
   ],
   "source": [
    "jeju.head()"
   ]
  },
  {
   "cell_type": "code",
   "execution_count": 3,
   "id": "94fb8ef9",
   "metadata": {},
   "outputs": [],
   "source": [
    "#데이터 확인"
   ]
  },
  {
   "cell_type": "code",
   "execution_count": 4,
   "id": "86de2097",
   "metadata": {},
   "outputs": [],
   "source": [
    "#글씨체 선택\n",
    "from matplotlib import font_manager, rc\n",
    "font_path = \"C:/Windows/Fonts/NGULIM.TTF\"\n",
    "font = font_manager.FontProperties(fname=font_path).get_name()\n",
    "rc('font', family=font)"
   ]
  },
  {
   "cell_type": "code",
   "execution_count": 5,
   "id": "29e52f50",
   "metadata": {
    "scrolled": false
   },
   "outputs": [
    {
     "data": {
      "text/plain": [
       "<AxesSubplot:>"
      ]
     },
     "execution_count": 5,
     "metadata": {},
     "output_type": "execute_result"
    },
    {
     "data": {
      "image/png": "[encoded data removed]",
      "text/plain": [
       "<Figure size 432x288 with 1 Axes>"
      ]
     },
     "metadata": {
      "needs_background": "light"
     },
     "output_type": "display_data"
    }
   ],
   "source": [
    "jeju['방문인구'].hist(bins=100)"
   ]
  },
  {
   "cell_type": "markdown",
   "id": "cced409d",
   "metadata": {},
   "source": [
    "# 본 데이터는 일자, 지역별로 세세히 데이터가 나눠저 있어 통일성을 위해 일자별로 데이터의 평균값을 구해 시도하였습니다."
   ]
  },
  {
   "cell_type": "code",
   "execution_count": 6,
   "id": "32f13626",
   "metadata": {},
   "outputs": [],
   "source": [
    "jeju_mean=jeju.groupby(['일자'], as_index=False).mean()"
   ]
  },
  {
   "cell_type": "code",
   "execution_count": 7,
   "id": "03426c52",
   "metadata": {},
   "outputs": [
    {
     "data": {
      "text/plain": [
       "<AxesSubplot:>"
      ]
     },
     "execution_count": 7,
     "metadata": {},
     "output_type": "execute_result"
    },
    {
     "data": {
      "image/png": "[encoded data removed]",
      "text/plain": [
       "<Figure size 432x288 with 1 Axes>"
      ]
     },
     "metadata": {
      "needs_background": "light"
     },
     "output_type": "display_data"
    }
   ],
   "source": [
    "# 180000 ~ 220000 사이 데이터가 가장 많다.\n",
    "jeju_mean['방문인구'].hist(bins=100)"
   ]
  },
  {
   "cell_type": "code",
   "execution_count": 8,
   "id": "874b7659",
   "metadata": {},
   "outputs": [],
   "source": [
    "import matplotlib.pyplot as plt"
   ]
  },
  {
   "cell_type": "code",
   "execution_count": 9,
   "id": "2f16dcfb",
   "metadata": {
    "scrolled": true
   },
   "outputs": [
    {
     "data": {
      "text/html": [
       "<div>\n",
       "<style scoped>\n",
       "    .dataframe tbody tr th:only-of-type {\n",
       "        vertical-align: middle;\n",
       "    }\n",
       "\n",
       "    .dataframe tbody tr th {\n",
       "        vertical-align: top;\n",
       "    }\n",
       "\n",
       "    .dataframe thead th {\n",
       "        text-align: right;\n",
       "    }\n",
       "</style>\n",
       "<table border=\"1\" class=\"dataframe\">\n",
       "  <thead>\n",
       "    <tr style=\"text-align: right;\">\n",
       "      <th></th>\n",
       "      <th>일자</th>\n",
       "      <th>거주인구</th>\n",
       "      <th>근무인구</th>\n",
       "      <th>방문인구</th>\n",
       "      <th>총 유동인구</th>\n",
       "      <th>교통량</th>\n",
       "      <th>평균 속도</th>\n",
       "      <th>평균 소요 시간</th>\n",
       "      <th>평균 기온</th>\n",
       "      <th>일강수량</th>\n",
       "      <th>평균 풍속</th>\n",
       "    </tr>\n",
       "  </thead>\n",
       "  <tbody>\n",
       "    <tr>\n",
       "      <th>0</th>\n",
       "      <td>2018-01-01</td>\n",
       "      <td>317309.342098</td>\n",
       "      <td>22614.753707</td>\n",
       "      <td>198800.837073</td>\n",
       "      <td>538724.932927</td>\n",
       "      <td>289.730488</td>\n",
       "      <td>41.819561</td>\n",
       "      <td>34.339293</td>\n",
       "      <td>3.105512</td>\n",
       "      <td>0.000000</td>\n",
       "      <td>2.661805</td>\n",
       "    </tr>\n",
       "    <tr>\n",
       "      <th>1</th>\n",
       "      <td>2018-01-02</td>\n",
       "      <td>316696.629488</td>\n",
       "      <td>37324.649829</td>\n",
       "      <td>182846.761927</td>\n",
       "      <td>536868.041341</td>\n",
       "      <td>368.399268</td>\n",
       "      <td>40.727439</td>\n",
       "      <td>36.143439</td>\n",
       "      <td>4.321146</td>\n",
       "      <td>0.000000</td>\n",
       "      <td>2.128049</td>\n",
       "    </tr>\n",
       "    <tr>\n",
       "      <th>2</th>\n",
       "      <td>2018-01-03</td>\n",
       "      <td>315537.570146</td>\n",
       "      <td>37350.654659</td>\n",
       "      <td>183220.805780</td>\n",
       "      <td>536109.030707</td>\n",
       "      <td>372.731073</td>\n",
       "      <td>40.526927</td>\n",
       "      <td>36.202805</td>\n",
       "      <td>3.508317</td>\n",
       "      <td>0.000000</td>\n",
       "      <td>2.984585</td>\n",
       "    </tr>\n",
       "    <tr>\n",
       "      <th>3</th>\n",
       "      <td>2018-01-04</td>\n",
       "      <td>304965.323488</td>\n",
       "      <td>36979.035098</td>\n",
       "      <td>189812.450537</td>\n",
       "      <td>531756.809049</td>\n",
       "      <td>370.993512</td>\n",
       "      <td>40.265561</td>\n",
       "      <td>36.650073</td>\n",
       "      <td>2.739195</td>\n",
       "      <td>2.040683</td>\n",
       "      <td>2.270756</td>\n",
       "    </tr>\n",
       "    <tr>\n",
       "      <th>4</th>\n",
       "      <td>2018-01-05</td>\n",
       "      <td>312561.529732</td>\n",
       "      <td>35778.820512</td>\n",
       "      <td>184950.181756</td>\n",
       "      <td>533290.531878</td>\n",
       "      <td>372.141561</td>\n",
       "      <td>40.186854</td>\n",
       "      <td>36.662341</td>\n",
       "      <td>2.639220</td>\n",
       "      <td>3.528463</td>\n",
       "      <td>3.083561</td>\n",
       "    </tr>\n",
       "    <tr>\n",
       "      <th>...</th>\n",
       "      <td>...</td>\n",
       "      <td>...</td>\n",
       "      <td>...</td>\n",
       "      <td>...</td>\n",
       "      <td>...</td>\n",
       "      <td>...</td>\n",
       "      <td>...</td>\n",
       "      <td>...</td>\n",
       "      <td>...</td>\n",
       "      <td>...</td>\n",
       "      <td>...</td>\n",
       "    </tr>\n",
       "    <tr>\n",
       "      <th>797</th>\n",
       "      <td>2020-04-25</td>\n",
       "      <td>344968.125425</td>\n",
       "      <td>23491.301075</td>\n",
       "      <td>182326.690400</td>\n",
       "      <td>550786.116825</td>\n",
       "      <td>358.247600</td>\n",
       "      <td>42.714600</td>\n",
       "      <td>36.810500</td>\n",
       "      <td>14.674425</td>\n",
       "      <td>0.000000</td>\n",
       "      <td>4.873875</td>\n",
       "    </tr>\n",
       "    <tr>\n",
       "      <th>798</th>\n",
       "      <td>2020-04-26</td>\n",
       "      <td>343974.590175</td>\n",
       "      <td>20073.036100</td>\n",
       "      <td>170438.111975</td>\n",
       "      <td>534485.738275</td>\n",
       "      <td>315.821225</td>\n",
       "      <td>43.312775</td>\n",
       "      <td>35.853450</td>\n",
       "      <td>11.697625</td>\n",
       "      <td>0.000000</td>\n",
       "      <td>2.327325</td>\n",
       "    </tr>\n",
       "    <tr>\n",
       "      <th>799</th>\n",
       "      <td>2020-04-27</td>\n",
       "      <td>336830.456275</td>\n",
       "      <td>30541.056950</td>\n",
       "      <td>164695.766500</td>\n",
       "      <td>532067.279725</td>\n",
       "      <td>384.062400</td>\n",
       "      <td>42.255300</td>\n",
       "      <td>37.553325</td>\n",
       "      <td>11.523175</td>\n",
       "      <td>0.000000</td>\n",
       "      <td>2.469575</td>\n",
       "    </tr>\n",
       "    <tr>\n",
       "      <th>800</th>\n",
       "      <td>2020-04-28</td>\n",
       "      <td>334859.593525</td>\n",
       "      <td>30908.123525</td>\n",
       "      <td>167095.192925</td>\n",
       "      <td>532862.909975</td>\n",
       "      <td>398.063775</td>\n",
       "      <td>42.023025</td>\n",
       "      <td>37.564050</td>\n",
       "      <td>11.731375</td>\n",
       "      <td>0.000000</td>\n",
       "      <td>2.528525</td>\n",
       "    </tr>\n",
       "    <tr>\n",
       "      <th>801</th>\n",
       "      <td>2020-04-29</td>\n",
       "      <td>331464.990975</td>\n",
       "      <td>30825.681950</td>\n",
       "      <td>174839.570300</td>\n",
       "      <td>537130.243300</td>\n",
       "      <td>413.015175</td>\n",
       "      <td>41.640900</td>\n",
       "      <td>37.710325</td>\n",
       "      <td>12.766275</td>\n",
       "      <td>0.000000</td>\n",
       "      <td>2.125200</td>\n",
       "    </tr>\n",
       "  </tbody>\n",
       "</table>\n",
       "<p>802 rows × 11 columns</p>\n",
       "</div>"
      ],
      "text/plain": [
       "             일자           거주인구          근무인구           방문인구         총 유동인구  \\\n",
       "0    2018-01-01  317309.342098  22614.753707  198800.837073  538724.932927   \n",
       "1    2018-01-02  316696.629488  37324.649829  182846.761927  536868.041341   \n",
       "2    2018-01-03  315537.570146  37350.654659  183220.805780  536109.030707   \n",
       "3    2018-01-04  304965.323488  36979.035098  189812.450537  531756.809049   \n",
       "4    2018-01-05  312561.529732  35778.820512  184950.181756  533290.531878   \n",
       "..          ...            ...           ...            ...            ...   \n",
       "797  2020-04-25  344968.125425  23491.301075  182326.690400  550786.116825   \n",
       "798  2020-04-26  343974.590175  20073.036100  170438.111975  534485.738275   \n",
       "799  2020-04-27  336830.456275  30541.056950  164695.766500  532067.279725   \n",
       "800  2020-04-28  334859.593525  30908.123525  167095.192925  532862.909975   \n",
       "801  2020-04-29  331464.990975  30825.681950  174839.570300  537130.243300   \n",
       "\n",
       "            교통량      평균 속도   평균 소요 시간      평균 기온      일강수량     평균 풍속  \n",
       "0    289.730488  41.819561  34.339293   3.105512  0.000000  2.661805  \n",
       "1    368.399268  40.727439  36.143439   4.321146  0.000000  2.128049  \n",
       "2    372.731073  40.526927  36.202805   3.508317  0.000000  2.984585  \n",
       "3    370.993512  40.265561  36.650073   2.739195  2.040683  2.270756  \n",
       "4    372.141561  40.186854  36.662341   2.639220  3.528463  3.083561  \n",
       "..          ...        ...        ...        ...       ...       ...  \n",
       "797  358.247600  42.714600  36.810500  14.674425  0.000000  4.873875  \n",
       "798  315.821225  43.312775  35.853450  11.697625  0.000000  2.327325  \n",
       "799  384.062400  42.255300  37.553325  11.523175  0.000000  2.469575  \n",
       "800  398.063775  42.023025  37.564050  11.731375  0.000000  2.528525  \n",
       "801  413.015175  41.640900  37.710325  12.766275  0.000000  2.125200  \n",
       "\n",
       "[802 rows x 11 columns]"
      ]
     },
     "execution_count": 9,
     "metadata": {},
     "output_type": "execute_result"
    }
   ],
   "source": [
    "jeju_mean.head(-1)"
   ]
  },
  {
   "cell_type": "markdown",
   "id": "e02a9616",
   "metadata": {},
   "source": []
  },
  {
   "cell_type": "code",
   "execution_count": 10,
   "id": "6a28f868",
   "metadata": {
    "scrolled": true
   },
   "outputs": [
    {
     "data": {
      "image/png": "[encoded data removed]",
      "text/plain": [
       "<Figure size 432x288 with 1 Axes>"
      ]
     },
     "metadata": {
      "needs_background": "light"
     },
     "output_type": "display_data"
    }
   ],
   "source": [
    "plt.scatter(jeju_mean['일자'],jeju_mean['방문인구'],alpha=0.4)\n",
    "plt.xlabel('일자')\n",
    "plt.ylabel('방문인구')\n",
    "plt.show()"
   ]
  },
  {
   "cell_type": "markdown",
   "id": "95760dfd",
   "metadata": {},
   "source": [
    "## 계절 별로 큰 의미성을 보이지 않는 것 같지만 최근으로 갈 때 방문 인구 수가 확 줄어드는걸 볼 수 있음."
   ]
  },
  {
   "cell_type": "code",
   "execution_count": 11,
   "id": "0fd5c1e3",
   "metadata": {},
   "outputs": [
    {
     "data": {
      "image/png": "[encoded data removed]",
      "text/plain": [
       "<Figure size 432x288 with 1 Axes>"
      ]
     },
     "metadata": {
      "needs_background": "light"
     },
     "output_type": "display_data"
    }
   ],
   "source": [
    "# 혹시 기온에 따라 분포도가 다를까 싶어 봤지만 대체적으로 고르 분포되어 있음.\n",
    "plt.scatter(jeju_mean['평균 기온'],jeju_mean['방문인구'],alpha=0.4)\n",
    "plt.xlabel('평균 기온')\n",
    "plt.ylabel('방문인구')\n",
    "plt.show()"
   ]
  },
  {
   "cell_type": "markdown",
   "id": "c66ce848",
   "metadata": {},
   "source": [
    "# 최근으로 갈 수록 방문 인구 수가 줄어든 것으로 보아 코로나가 관련된 것이라고 생각. 코로나 일별 총 확진자 수를 대입해 보기로 함. 출처(https://coronaboard.kr/)"
   ]
  },
  {
   "cell_type": "code",
   "execution_count": 12,
   "id": "bb678521",
   "metadata": {},
   "outputs": [],
   "source": [
    "corona = pd.read_csv('kr_daily.csv',encoding='euc-kr')"
   ]
  },
  {
   "cell_type": "code",
   "execution_count": 13,
   "id": "1b45a892",
   "metadata": {},
   "outputs": [
    {
     "data": {
      "text/html": [
       "<div>\n",
       "<style scoped>\n",
       "    .dataframe tbody tr th:only-of-type {\n",
       "        vertical-align: middle;\n",
       "    }\n",
       "\n",
       "    .dataframe tbody tr th {\n",
       "        vertical-align: top;\n",
       "    }\n",
       "\n",
       "    .dataframe thead th {\n",
       "        text-align: right;\n",
       "    }\n",
       "</style>\n",
       "<table border=\"1\" class=\"dataframe\">\n",
       "  <thead>\n",
       "    <tr style=\"text-align: right;\">\n",
       "      <th></th>\n",
       "      <th>일자</th>\n",
       "      <th>거주인구</th>\n",
       "      <th>근무인구</th>\n",
       "      <th>방문인구</th>\n",
       "      <th>총 유동인구</th>\n",
       "      <th>교통량</th>\n",
       "      <th>평균 속도</th>\n",
       "      <th>평균 소요 시간</th>\n",
       "      <th>평균 기온</th>\n",
       "      <th>일강수량</th>\n",
       "      <th>평균 풍속</th>\n",
       "      <th>confirmed</th>\n",
       "      <th>death</th>\n",
       "      <th>released</th>\n",
       "      <th>tested</th>\n",
       "      <th>negative</th>\n",
       "      <th>daily</th>\n",
       "    </tr>\n",
       "  </thead>\n",
       "  <tbody>\n",
       "    <tr>\n",
       "      <th>0</th>\n",
       "      <td>2018-01-01</td>\n",
       "      <td>317309.342098</td>\n",
       "      <td>22614.753707</td>\n",
       "      <td>198800.837073</td>\n",
       "      <td>538724.932927</td>\n",
       "      <td>289.730488</td>\n",
       "      <td>41.819561</td>\n",
       "      <td>34.339293</td>\n",
       "      <td>3.105512</td>\n",
       "      <td>0.000000</td>\n",
       "      <td>2.661805</td>\n",
       "      <td>0</td>\n",
       "      <td>0</td>\n",
       "      <td>0</td>\n",
       "      <td>0</td>\n",
       "      <td>0</td>\n",
       "      <td>0</td>\n",
       "    </tr>\n",
       "    <tr>\n",
       "      <th>1</th>\n",
       "      <td>2018-01-02</td>\n",
       "      <td>316696.629488</td>\n",
       "      <td>37324.649829</td>\n",
       "      <td>182846.761927</td>\n",
       "      <td>536868.041341</td>\n",
       "      <td>368.399268</td>\n",
       "      <td>40.727439</td>\n",
       "      <td>36.143439</td>\n",
       "      <td>4.321146</td>\n",
       "      <td>0.000000</td>\n",
       "      <td>2.128049</td>\n",
       "      <td>0</td>\n",
       "      <td>0</td>\n",
       "      <td>0</td>\n",
       "      <td>0</td>\n",
       "      <td>0</td>\n",
       "      <td>0</td>\n",
       "    </tr>\n",
       "    <tr>\n",
       "      <th>2</th>\n",
       "      <td>2018-01-03</td>\n",
       "      <td>315537.570146</td>\n",
       "      <td>37350.654659</td>\n",
       "      <td>183220.805780</td>\n",
       "      <td>536109.030707</td>\n",
       "      <td>372.731073</td>\n",
       "      <td>40.526927</td>\n",
       "      <td>36.202805</td>\n",
       "      <td>3.508317</td>\n",
       "      <td>0.000000</td>\n",
       "      <td>2.984585</td>\n",
       "      <td>0</td>\n",
       "      <td>0</td>\n",
       "      <td>0</td>\n",
       "      <td>0</td>\n",
       "      <td>0</td>\n",
       "      <td>0</td>\n",
       "    </tr>\n",
       "    <tr>\n",
       "      <th>3</th>\n",
       "      <td>2018-01-04</td>\n",
       "      <td>304965.323488</td>\n",
       "      <td>36979.035098</td>\n",
       "      <td>189812.450537</td>\n",
       "      <td>531756.809049</td>\n",
       "      <td>370.993512</td>\n",
       "      <td>40.265561</td>\n",
       "      <td>36.650073</td>\n",
       "      <td>2.739195</td>\n",
       "      <td>2.040683</td>\n",
       "      <td>2.270756</td>\n",
       "      <td>0</td>\n",
       "      <td>0</td>\n",
       "      <td>0</td>\n",
       "      <td>0</td>\n",
       "      <td>0</td>\n",
       "      <td>0</td>\n",
       "    </tr>\n",
       "    <tr>\n",
       "      <th>4</th>\n",
       "      <td>2018-01-05</td>\n",
       "      <td>312561.529732</td>\n",
       "      <td>35778.820512</td>\n",
       "      <td>184950.181756</td>\n",
       "      <td>533290.531878</td>\n",
       "      <td>372.141561</td>\n",
       "      <td>40.186854</td>\n",
       "      <td>36.662341</td>\n",
       "      <td>2.639220</td>\n",
       "      <td>3.528463</td>\n",
       "      <td>3.083561</td>\n",
       "      <td>0</td>\n",
       "      <td>0</td>\n",
       "      <td>0</td>\n",
       "      <td>0</td>\n",
       "      <td>0</td>\n",
       "      <td>0</td>\n",
       "    </tr>\n",
       "  </tbody>\n",
       "</table>\n",
       "</div>"
      ],
      "text/plain": [
       "           일자           거주인구          근무인구           방문인구         총 유동인구  \\\n",
       "0  2018-01-01  317309.342098  22614.753707  198800.837073  538724.932927   \n",
       "1  2018-01-02  316696.629488  37324.649829  182846.761927  536868.041341   \n",
       "2  2018-01-03  315537.570146  37350.654659  183220.805780  536109.030707   \n",
       "3  2018-01-04  304965.323488  36979.035098  189812.450537  531756.809049   \n",
       "4  2018-01-05  312561.529732  35778.820512  184950.181756  533290.531878   \n",
       "\n",
       "          교통량      평균 속도   평균 소요 시간     평균 기온      일강수량     평균 풍속  confirmed  \\\n",
       "0  289.730488  41.819561  34.339293  3.105512  0.000000  2.661805          0   \n",
       "1  368.399268  40.727439  36.143439  4.321146  0.000000  2.128049          0   \n",
       "2  372.731073  40.526927  36.202805  3.508317  0.000000  2.984585          0   \n",
       "3  370.993512  40.265561  36.650073  2.739195  2.040683  2.270756          0   \n",
       "4  372.141561  40.186854  36.662341  2.639220  3.528463  3.083561          0   \n",
       "\n",
       "   death  released  tested  negative  daily  \n",
       "0      0         0       0         0      0  \n",
       "1      0         0       0         0      0  \n",
       "2      0         0       0         0      0  \n",
       "3      0         0       0         0      0  \n",
       "4      0         0       0         0      0  "
      ]
     },
     "execution_count": 13,
     "metadata": {},
     "output_type": "execute_result"
    }
   ],
   "source": [
    "# 제주 데이터와, 코로나 데이터를 일자별로 맞춰 데이터를 합침.\n",
    "jeju_corona = pd.merge(jeju_mean,corona,how='outer',on='일자')\n",
    "jeju_corona.head()"
   ]
  },
  {
   "cell_type": "code",
   "execution_count": 14,
   "id": "481ed300",
   "metadata": {},
   "outputs": [],
   "source": [
    "#https://tjansry354.tistory.com/12"
   ]
  },
  {
   "cell_type": "markdown",
   "id": "355dcc5c",
   "metadata": {},
   "source": [
    "## 0으로 표시된곳은 코로나 이전. 코로나 이전이 확실히 많을 것을 볼 수 있음.\n",
    "## 확진자 발생 후 방문 인구가 확연히 줄어들다 시간에 따라 적응 후 제자리를 찾는게 보임"
   ]
  },
  {
   "cell_type": "code",
   "execution_count": 15,
   "id": "0615e1ce",
   "metadata": {},
   "outputs": [
    {
     "data": {
      "image/png": "[encoded data removed]",
      "text/plain": [
       "<Figure size 432x288 with 1 Axes>"
      ]
     },
     "metadata": {
      "needs_background": "light"
     },
     "output_type": "display_data"
    }
   ],
   "source": [
    "plt.scatter(jeju_corona['confirmed'],jeju_corona['방문인구'],alpha=0.4)\n",
    "plt.xlabel('확진자 수')\n",
    "plt.ylabel('방문인구')\n",
    "plt.show()"
   ]
  },
  {
   "cell_type": "markdown",
   "id": "693251b2",
   "metadata": {},
   "source": [
    "## 완치자와 방문인구의 상관관계를 봤을 때 초기에는 큰 영향이 없지만 점 점 늘어나는 것이 보임."
   ]
  },
  {
   "cell_type": "code",
   "execution_count": 16,
   "id": "80f30fd1",
   "metadata": {},
   "outputs": [
    {
     "data": {
      "image/png": "[encoded data removed]",
      "text/plain": [
       "<Figure size 432x288 with 1 Axes>"
      ]
     },
     "metadata": {
      "needs_background": "light"
     },
     "output_type": "display_data"
    }
   ],
   "source": [
    "plt.scatter(jeju_corona['released'],jeju_corona['방문인구'],alpha=0.4)\n",
    "plt.xlabel('코로나 완치자')\n",
    "plt.ylabel('방문인구')\n",
    "plt.show()"
   ]
  },
  {
   "cell_type": "markdown",
   "id": "d4f9f4cf",
   "metadata": {},
   "source": [
    "# 이 유의미한 데이터를 이용하여 제주 방문인구를 예측해 보는 모델을 만들어 보려고함."
   ]
  },
  {
   "cell_type": "code",
   "execution_count": 17,
   "id": "cf2add99",
   "metadata": {
    "scrolled": true
   },
   "outputs": [
    {
     "data": {
      "text/html": [
       "<div>\n",
       "<style scoped>\n",
       "    .dataframe tbody tr th:only-of-type {\n",
       "        vertical-align: middle;\n",
       "    }\n",
       "\n",
       "    .dataframe tbody tr th {\n",
       "        vertical-align: top;\n",
       "    }\n",
       "\n",
       "    .dataframe thead th {\n",
       "        text-align: right;\n",
       "    }\n",
       "</style>\n",
       "<table border=\"1\" class=\"dataframe\">\n",
       "  <thead>\n",
       "    <tr style=\"text-align: right;\">\n",
       "      <th></th>\n",
       "      <th>일자</th>\n",
       "      <th>거주인구</th>\n",
       "      <th>근무인구</th>\n",
       "      <th>방문인구</th>\n",
       "      <th>총 유동인구</th>\n",
       "      <th>교통량</th>\n",
       "      <th>평균 속도</th>\n",
       "      <th>평균 소요 시간</th>\n",
       "      <th>평균 기온</th>\n",
       "      <th>일강수량</th>\n",
       "      <th>평균 풍속</th>\n",
       "      <th>confirmed</th>\n",
       "      <th>death</th>\n",
       "      <th>released</th>\n",
       "      <th>tested</th>\n",
       "      <th>negative</th>\n",
       "      <th>daily</th>\n",
       "    </tr>\n",
       "  </thead>\n",
       "  <tbody>\n",
       "    <tr>\n",
       "      <th>0</th>\n",
       "      <td>2018-01-01</td>\n",
       "      <td>317309.342098</td>\n",
       "      <td>22614.753707</td>\n",
       "      <td>198800.837073</td>\n",
       "      <td>538724.932927</td>\n",
       "      <td>289.730488</td>\n",
       "      <td>41.819561</td>\n",
       "      <td>34.339293</td>\n",
       "      <td>3.105512</td>\n",
       "      <td>0.000000</td>\n",
       "      <td>2.661805</td>\n",
       "      <td>0</td>\n",
       "      <td>0</td>\n",
       "      <td>0</td>\n",
       "      <td>0</td>\n",
       "      <td>0</td>\n",
       "      <td>0</td>\n",
       "    </tr>\n",
       "    <tr>\n",
       "      <th>1</th>\n",
       "      <td>2018-01-02</td>\n",
       "      <td>316696.629488</td>\n",
       "      <td>37324.649829</td>\n",
       "      <td>182846.761927</td>\n",
       "      <td>536868.041341</td>\n",
       "      <td>368.399268</td>\n",
       "      <td>40.727439</td>\n",
       "      <td>36.143439</td>\n",
       "      <td>4.321146</td>\n",
       "      <td>0.000000</td>\n",
       "      <td>2.128049</td>\n",
       "      <td>0</td>\n",
       "      <td>0</td>\n",
       "      <td>0</td>\n",
       "      <td>0</td>\n",
       "      <td>0</td>\n",
       "      <td>0</td>\n",
       "    </tr>\n",
       "    <tr>\n",
       "      <th>2</th>\n",
       "      <td>2018-01-03</td>\n",
       "      <td>315537.570146</td>\n",
       "      <td>37350.654659</td>\n",
       "      <td>183220.805780</td>\n",
       "      <td>536109.030707</td>\n",
       "      <td>372.731073</td>\n",
       "      <td>40.526927</td>\n",
       "      <td>36.202805</td>\n",
       "      <td>3.508317</td>\n",
       "      <td>0.000000</td>\n",
       "      <td>2.984585</td>\n",
       "      <td>0</td>\n",
       "      <td>0</td>\n",
       "      <td>0</td>\n",
       "      <td>0</td>\n",
       "      <td>0</td>\n",
       "      <td>0</td>\n",
       "    </tr>\n",
       "    <tr>\n",
       "      <th>3</th>\n",
       "      <td>2018-01-04</td>\n",
       "      <td>304965.323488</td>\n",
       "      <td>36979.035098</td>\n",
       "      <td>189812.450537</td>\n",
       "      <td>531756.809049</td>\n",
       "      <td>370.993512</td>\n",
       "      <td>40.265561</td>\n",
       "      <td>36.650073</td>\n",
       "      <td>2.739195</td>\n",
       "      <td>2.040683</td>\n",
       "      <td>2.270756</td>\n",
       "      <td>0</td>\n",
       "      <td>0</td>\n",
       "      <td>0</td>\n",
       "      <td>0</td>\n",
       "      <td>0</td>\n",
       "      <td>0</td>\n",
       "    </tr>\n",
       "    <tr>\n",
       "      <th>4</th>\n",
       "      <td>2018-01-05</td>\n",
       "      <td>312561.529732</td>\n",
       "      <td>35778.820512</td>\n",
       "      <td>184950.181756</td>\n",
       "      <td>533290.531878</td>\n",
       "      <td>372.141561</td>\n",
       "      <td>40.186854</td>\n",
       "      <td>36.662341</td>\n",
       "      <td>2.639220</td>\n",
       "      <td>3.528463</td>\n",
       "      <td>3.083561</td>\n",
       "      <td>0</td>\n",
       "      <td>0</td>\n",
       "      <td>0</td>\n",
       "      <td>0</td>\n",
       "      <td>0</td>\n",
       "      <td>0</td>\n",
       "    </tr>\n",
       "  </tbody>\n",
       "</table>\n",
       "</div>"
      ],
      "text/plain": [
       "           일자           거주인구          근무인구           방문인구         총 유동인구  \\\n",
       "0  2018-01-01  317309.342098  22614.753707  198800.837073  538724.932927   \n",
       "1  2018-01-02  316696.629488  37324.649829  182846.761927  536868.041341   \n",
       "2  2018-01-03  315537.570146  37350.654659  183220.805780  536109.030707   \n",
       "3  2018-01-04  304965.323488  36979.035098  189812.450537  531756.809049   \n",
       "4  2018-01-05  312561.529732  35778.820512  184950.181756  533290.531878   \n",
       "\n",
       "          교통량      평균 속도   평균 소요 시간     평균 기온      일강수량     평균 풍속  confirmed  \\\n",
       "0  289.730488  41.819561  34.339293  3.105512  0.000000  2.661805          0   \n",
       "1  368.399268  40.727439  36.143439  4.321146  0.000000  2.128049          0   \n",
       "2  372.731073  40.526927  36.202805  3.508317  0.000000  2.984585          0   \n",
       "3  370.993512  40.265561  36.650073  2.739195  2.040683  2.270756          0   \n",
       "4  372.141561  40.186854  36.662341  2.639220  3.528463  3.083561          0   \n",
       "\n",
       "   death  released  tested  negative  daily  \n",
       "0      0         0       0         0      0  \n",
       "1      0         0       0         0      0  \n",
       "2      0         0       0         0      0  \n",
       "3      0         0       0         0      0  \n",
       "4      0         0       0         0      0  "
      ]
     },
     "execution_count": 17,
     "metadata": {},
     "output_type": "execute_result"
    }
   ],
   "source": [
    "jeju_corona.head()"
   ]
  },
  {
   "cell_type": "code",
   "execution_count": 18,
   "id": "b1354a8c",
   "metadata": {
    "scrolled": true
   },
   "outputs": [],
   "source": [
    "# 데이터 전처리\n",
    "# 총 유동인구는 거주인구, 근무인구, 방문인구의 합 이므로 제거, 근무인구 또한 제거\n",
    "jeju_corona = jeju_corona.drop(['총 유동인구','근무인구',], axis=1)\n",
    "# 일자, 교통량, 평균 속도, 평균 소요 시간은 크게 영향을 받지 않으므로 제거\n",
    "jeju_corona = jeju_corona.drop(['일자','교통량', '평균 속도', '평균 소요 시간'], axis=1)\n"
   ]
  },
  {
   "cell_type": "code",
   "execution_count": 19,
   "id": "bd63b40f",
   "metadata": {
    "scrolled": true
   },
   "outputs": [],
   "source": [
    "# Info를 보면 데이터의 수가 다른 것을 볼 수 있다. 이는 서로 다른 데이터를 합쳤을 때 나온 오류같다,\n",
    "# 오류들을 제거해보자.\n",
    "jeju_corona=jeju_corona.dropna(axis=0)"
   ]
  },
  {
   "cell_type": "code",
   "execution_count": 20,
   "id": "5cb1d4eb",
   "metadata": {
    "scrolled": true
   },
   "outputs": [
    {
     "name": "stdout",
     "output_type": "stream",
     "text": [
      "<class 'pandas.core.frame.DataFrame'>\n",
      "Int64Index: 803 entries, 0 to 802\n",
      "Data columns (total 11 columns):\n",
      " #   Column     Non-Null Count  Dtype  \n",
      "---  ------     --------------  -----  \n",
      " 0   거주인구       803 non-null    float64\n",
      " 1   방문인구       803 non-null    float64\n",
      " 2   평균 기온      803 non-null    float64\n",
      " 3   일강수량       803 non-null    float64\n",
      " 4   평균 풍속      803 non-null    float64\n",
      " 5   confirmed  803 non-null    int64  \n",
      " 6   death      803 non-null    int64  \n",
      " 7   released   803 non-null    int64  \n",
      " 8   tested     803 non-null    int64  \n",
      " 9   negative   803 non-null    int64  \n",
      " 10  daily      803 non-null    int64  \n",
      "dtypes: float64(5), int64(6)\n",
      "memory usage: 75.3 KB\n"
     ]
    }
   ],
   "source": [
    "jeju_corona.info()"
   ]
  },
  {
   "cell_type": "code",
   "execution_count": null,
   "id": "510012a2",
   "metadata": {},
   "outputs": [],
   "source": []
  },
  {
   "cell_type": "code",
   "execution_count": 22,
   "id": "f3414dbc",
   "metadata": {},
   "outputs": [],
   "source": [
    "# 이 모델은 미지의 값을 예측해야하기 선형 회귀 모델로 코드를 작성하였습니다."
   ]
  },
  {
   "cell_type": "code",
   "execution_count": 23,
   "id": "de3c50b5",
   "metadata": {},
   "outputs": [],
   "source": [
    "# 머신 러닝 수행\n",
    "# 학습용, 테스트용 데이터로 분리\n",
    "from sklearn.model_selection import train_test_split\n",
    "y_target = jeju_corona['방문인구']\n",
    "X_features = jeju_corona.drop('방문인구', axis = 1)\n",
    "X_train, X_test, y_train, y_test=train_test_split(X_features, y_target, test_size=0.2, random_state=11)"
   ]
  },
  {
   "cell_type": "code",
   "execution_count": 24,
   "id": "68925959",
   "metadata": {},
   "outputs": [
    {
     "name": "stdout",
     "output_type": "stream",
     "text": [
      "RandomForestRegressor 모델 : 0.5962794683615131\n",
      "LinearRegression 모델 : 0.5345448866208387\n"
     ]
    }
   ],
   "source": [
    "# 5주차 코드를 사용하여 두 가지 모델을 비교해보았습니다.\n",
    "from sklearn.ensemble import RandomForestRegressor\n",
    "from sklearn.linear_model import LinearRegression\n",
    "\n",
    "# 2-1. 학습 객체 생성\n",
    "rf_reg = RandomForestRegressor()\n",
    "lr_reg = LinearRegression()\n",
    "# 2-2. 학습 데이터로 학습\n",
    "rf_reg.fit(X_train, y_train)\n",
    "lr_reg.fit(X_train, y_train)\n",
    "print('RandomForestRegressor 모델 :',rf_reg.score(X_test, y_test))\n",
    "print('LinearRegression 모델 :',lr_reg.score(X_test, y_test))"
   ]
  },
  {
   "cell_type": "code",
   "execution_count": 25,
   "id": "d6ce573f",
   "metadata": {},
   "outputs": [],
   "source": [
    "# 하이퍼파라미터 튜닝 (GridSearchCV)\n",
    "from sklearn.model_selection import GridSearchCV"
   ]
  },
  {
   "cell_type": "code",
   "execution_count": 26,
   "id": "8c135f14",
   "metadata": {},
   "outputs": [
    {
     "data": {
      "text/plain": [
       "GridSearchCV(cv=5, estimator=RandomForestRegressor(), n_jobs=-1,\n",
       "             param_grid={'max_features': [3, 5], 'n_estimators': [100, 200]},\n",
       "             scoring='neg_mean_squared_error')"
      ]
     },
     "execution_count": 26,
     "metadata": {},
     "output_type": "execute_result"
    }
   ],
   "source": [
    "param_grid = {\n",
    "    'n_estimators': [100, 200],\n",
    "    'max_features': [3, 5]\n",
    "}\n",
    "\n",
    "grid_rf = GridSearchCV(rf_reg, param_grid, cv = 5, \n",
    "                      scoring = 'neg_mean_squared_error', n_jobs = -1)\n",
    "grid_rf.fit(X_train, y_train)"
   ]
  },
  {
   "cell_type": "code",
   "execution_count": 27,
   "id": "2f8e2bd0",
   "metadata": {},
   "outputs": [
    {
     "data": {
      "text/plain": [
       "{'max_features': 3, 'n_estimators': 200}"
      ]
     },
     "execution_count": 27,
     "metadata": {},
     "output_type": "execute_result"
    }
   ],
   "source": [
    "grid_rf.best_params_"
   ]
  },
  {
   "cell_type": "code",
   "execution_count": 28,
   "id": "68f7078c",
   "metadata": {
    "scrolled": false
   },
   "outputs": [
    {
     "data": {
      "text/plain": [
       "-152939848.5158996"
      ]
     },
     "execution_count": 28,
     "metadata": {},
     "output_type": "execute_result"
    }
   ],
   "source": [
    "grid_rf.score(X_test, y_test)"
   ]
  },
  {
   "cell_type": "code",
   "execution_count": 29,
   "id": "d1e28133",
   "metadata": {},
   "outputs": [],
   "source": [
    "from pandas import Series"
   ]
  },
  {
   "cell_type": "code",
   "execution_count": 30,
   "id": "700ffa15",
   "metadata": {},
   "outputs": [],
   "source": [
    "imp = Series(grid_rf.best_estimator_.feature_importances_, index = X_test.columns)"
   ]
  },
  {
   "cell_type": "code",
   "execution_count": 31,
   "id": "09153631",
   "metadata": {},
   "outputs": [
    {
     "data": {
      "text/plain": [
       "<AxesSubplot:>"
      ]
     },
     "execution_count": 31,
     "metadata": {},
     "output_type": "execute_result"
    },
    {
     "data": {
      "image/png": "[encoded data removed]",
      "text/plain": [
       "<Figure size 432x288 with 1 Axes>"
      ]
     },
     "metadata": {
      "needs_background": "light"
     },
     "output_type": "display_data"
    }
   ],
   "source": [
    "imp.sort_values(ascending = False).plot(kind = 'barh')\n",
    "# 거주인구, 평균 기온, 검사자 수, 미감염자, 총 확진자 수가 가장 영향을 많이 받는것으로 보여짐"
   ]
  },
  {
   "cell_type": "code",
   "execution_count": 32,
   "id": "d9935d7d",
   "metadata": {
    "scrolled": true
   },
   "outputs": [],
   "source": [
    "# 예측한 모델을 시각화 해보자\n",
    "# 하이퍼파라미터 튜닝 모델을 가지고 시각화 해보자\n",
    "model = grid_rf.fit(X_train, y_train)\n",
    "x_new=X_test\n",
    "# 예측된 방문객 수이다.\n",
    "y_new=model.predict(x_new)\n",
    "# 실제 방문객 수와 예측된 방문객 수를 보자.\n",
    "y_compare={'실제 방문객 수':y_test, '예측 방문객 수':y_new}\n",
    "y_compare=pd.DataFrame(y_compare)"
   ]
  },
  {
   "cell_type": "code",
   "execution_count": 33,
   "id": "50122f07",
   "metadata": {},
   "outputs": [
    {
     "data": {
      "text/plain": [
       "<AxesSubplot:>"
      ]
     },
     "execution_count": 33,
     "metadata": {},
     "output_type": "execute_result"
    },
    {
     "data": {
      "image/png": "[encoded data removed]",
      "text/plain": [
       "<Figure size 7200x720 with 1 Axes>"
      ]
     },
     "metadata": {
      "needs_background": "light"
     },
     "output_type": "display_data"
    }
   ],
   "source": [
    "plt.rcParams[\"figure.figsize\"] = (100,10)\n",
    "y_compare.plot(y=['실제 방문객 수', '예측 방문객 수'], kind=\"bar\")"
   ]
  },
  {
   "cell_type": "code",
   "execution_count": 34,
   "id": "70b549a7",
   "metadata": {},
   "outputs": [
    {
     "data": {
      "text/plain": [
       "<AxesSubplot:>"
      ]
     },
     "execution_count": 34,
     "metadata": {},
     "output_type": "execute_result"
    },
    {
     "data": {
      "image/png": "[encoded data removed]",
      "text/plain": [
       "<Figure size 1080x1080 with 2 Axes>"
      ]
     },
     "metadata": {
      "needs_background": "light"
     },
     "output_type": "display_data"
    }
   ],
   "source": [
    "import matplotlib.pyplot as plt \n",
    "import seaborn as sns   \n",
    "\n",
    "plt.figure(figsize=(15,15))\n",
    "sns.heatmap(data = y_compare.corr(), annot=True, \n",
    "fmt = '.2f', linewidths=5, cmap='Reds')"
   ]
  },
  {
   "cell_type": "code",
   "execution_count": null,
   "id": "ce7bd726",
   "metadata": {},
   "outputs": [],
   "source": []
  }
 ],
 "metadata": {
  "kernelspec": {
   "display_name": "Python 3",
   "language": "python",
   "name": "python3"
  },
  "language_info": {
   "codemirror_mode": {
    "name": "ipython",
    "version": 3
   },
   "file_extension": ".py",
   "mimetype": "text/x-python",
   "name": "python",
   "nbconvert_exporter": "python",
   "pygments_lexer": "ipython3",
   "version": "3.8.8"
  }
 },
 "nbformat": 4,
 "nbformat_minor": 5
}
